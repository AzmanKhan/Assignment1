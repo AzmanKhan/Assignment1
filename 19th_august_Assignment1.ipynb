{
 "cells": [
  {
   "cell_type": "code",
   "execution_count": 21,
   "id": "2bd27855-35a1-40bb-bcd8-ca87d57d2367",
   "metadata": {},
   "outputs": [
    {
     "data": {
      "text/plain": [
       "(5, 3)"
      ]
     },
     "execution_count": 21,
     "metadata": {},
     "output_type": "execute_result"
    }
   ],
   "source": [
    "#1\n",
    "x =3 \n",
    "y = 5\n",
    "x = x+y #3+5 =8 (x = 8)\n",
    "y = x-y # 8-5 = 3 (y = 3)\n",
    "x = x-y # 8-3 = 5(x = 5)\n",
    "x,y\n",
    "\n",
    "\n",
    "\n"
   ]
  },
  {
   "cell_type": "code",
   "execution_count": 35,
   "id": "ca391724-0e5c-4714-9dd2-55178d8e64da",
   "metadata": {},
   "outputs": [
    {
     "name": "stdin",
     "output_type": "stream",
     "text": [
      " 10\n",
      " 12\n"
     ]
    },
    {
     "data": {
      "text/plain": [
       "120"
      ]
     },
     "execution_count": 35,
     "metadata": {},
     "output_type": "execute_result"
    }
   ],
   "source": [
    "#2 program for area of a rectangle \n",
    "length = int(input())\n",
    "breadth = int(input())\n",
    "# Area of a rectangle is length * breadth \n",
    "area = length * breadth \n",
    "area \n"
   ]
  },
  {
   "cell_type": "code",
   "execution_count": 37,
   "id": "d388fb10-92ab-486c-bc65-b4db2c838454",
   "metadata": {},
   "outputs": [
    {
     "name": "stdin",
     "output_type": "stream",
     "text": [
      " 19\n"
     ]
    },
    {
     "data": {
      "text/plain": [
       "66.2"
      ]
     },
     "execution_count": 37,
     "metadata": {},
     "output_type": "execute_result"
    }
   ],
   "source": [
    "#3 program for converting Celsius to Fahrenheit\n",
    "temp = float(input()) \n",
    "# temperature in celsius\n",
    "new_temp = (temp * 9/5 ) + 32\n",
    "new_temp\n"
   ]
  },
  {
   "cell_type": "code",
   "execution_count": 8,
   "id": "6c594ce5-06f6-446d-80c0-84aeb3dbf042",
   "metadata": {},
   "outputs": [
    {
     "name": "stdin",
     "output_type": "stream",
     "text": [
      " azman\n"
     ]
    },
    {
     "name": "stdout",
     "output_type": "stream",
     "text": [
      "The length of the string is \n"
     ]
    },
    {
     "data": {
      "text/plain": [
       "5"
      ]
     },
     "execution_count": 8,
     "metadata": {},
     "output_type": "execute_result"
    }
   ],
   "source": [
    "#1 the length of a string \n",
    "s = input()\n",
    "\n",
    "print(\"The length of the string is \")\n",
    "len(s)\n",
    "\n",
    "\n"
   ]
  },
  {
   "cell_type": "code",
   "execution_count": 8,
   "id": "00601f0d-937e-4635-9817-4a365bd43e8c",
   "metadata": {},
   "outputs": [
    {
     "name": "stdin",
     "output_type": "stream",
     "text": [
      " azman khan is th e best\n"
     ]
    },
    {
     "data": {
      "text/plain": [
       "6"
      ]
     },
     "execution_count": 8,
     "metadata": {},
     "output_type": "execute_result"
    }
   ],
   "source": [
    "#2\n",
    "'''Create a program  that takes a sentence from the user and counts the number\n",
    "of vowels (a, e, i, o, u) in the string.'''\n",
    "\n",
    "sentence = input()\n",
    "vowel_count = 0\n",
    "vowel = ('a' , 'e', 'i', 'o', 'u')\n",
    "for char in sentence:\n",
    "    if  char in vowel :\n",
    "        vowel_count += 1\n",
    "vowel_count\n",
    "\n"
   ]
  },
  {
   "cell_type": "code",
   "execution_count": 34,
   "id": "274c3d24-90c0-4f8e-8326-a0efb33633f4",
   "metadata": {},
   "outputs": [
    {
     "data": {
      "text/plain": [
       "'nohtyp olleh'"
      ]
     },
     "execution_count": 34,
     "metadata": {},
     "output_type": "execute_result"
    }
   ],
   "source": [
    "#question 3\n",
    "'''#3 Given a string, reverse the order of characters using string slicing and print\n",
    "the reversed string.'''\n",
    "new_str = \"hello python\"\n",
    "new_str[11::-1]\n",
    "#start from the last index 11\n",
    "#end index is not defined \n",
    "# -1 for the jumping "
   ]
  },
  {
   "cell_type": "code",
   "execution_count": 35,
   "id": "d588a330-4135-43a9-9fcd-ea8dbb04693c",
   "metadata": {},
   "outputs": [
    {
     "name": "stdin",
     "output_type": "stream",
     "text": [
      " azman khna\n"
     ]
    },
    {
     "data": {
      "text/plain": [
       "'anhk namza'"
      ]
     },
     "execution_count": 35,
     "metadata": {},
     "output_type": "execute_result"
    }
   ],
   "source": [
    "#question 3\n",
    "'''Given a string, reverse the order of characters using string slicing and print\n",
    "the reversed string.'''\n",
    "# if we take  input from user\n",
    "new_str =input()\n",
    "rev_str = new_str[::-1]\n",
    "#starting and ending is not defined only jumping is defined\n",
    "rev_str"
   ]
  },
  {
   "cell_type": "code",
   "execution_count": 28,
   "id": "adeab497-773e-409d-8286-990e189f1dd4",
   "metadata": {},
   "outputs": [
    {
     "name": "stdin",
     "output_type": "stream",
     "text": [
      " poop\n"
     ]
    },
    {
     "name": "stdout",
     "output_type": "stream",
     "text": [
      "palindrome\n"
     ]
    }
   ],
   "source": [
    "#4\n",
    "'''Write a program that takes a string as input and checks if it is a palindrome\n",
    "(reads the same forwards and backwards).'''\n",
    "new_str = input()\n",
    "#reverse the string\n",
    "rev_str = new_str[::-1]\n",
    "#checking palindrome\n",
    "if rev_str == new_str:\n",
    "    print(\"palindrome\")\n",
    "else:\n",
    "        print(\"not palindrome\")\n",
    "        "
   ]
  },
  {
   "cell_type": "code",
   "execution_count": 29,
   "id": "20e87878-9a1b-414f-98be-95c91d3d24e1",
   "metadata": {},
   "outputs": [
    {
     "name": "stdin",
     "output_type": "stream",
     "text": [
      " az man kh an\n"
     ]
    },
    {
     "data": {
      "text/plain": [
       "'azmankhan'"
      ]
     },
     "execution_count": 29,
     "metadata": {},
     "output_type": "execute_result"
    }
   ],
   "source": [
    "#Q5\n",
    "'''Create a program that takes a string as input and removes all the spaces from\n",
    "it. Print the modified string without spaces'''\n",
    "\n",
    "input_str = input()\n",
    "#replacing the spaces with  blank\n",
    "new_str = input_str.replace(\" \",\"\")\n",
    "new_str"
   ]
  },
  {
   "cell_type": "code",
   "execution_count": null,
   "id": "45f4c7e9-f421-4709-a096-cae2b251a14b",
   "metadata": {},
   "outputs": [],
   "source": []
  }
 ],
 "metadata": {
  "kernelspec": {
   "display_name": "Python 3 (ipykernel)",
   "language": "python",
   "name": "python3"
  },
  "language_info": {
   "codemirror_mode": {
    "name": "ipython",
    "version": 3
   },
   "file_extension": ".py",
   "mimetype": "text/x-python",
   "name": "python",
   "nbconvert_exporter": "python",
   "pygments_lexer": "ipython3",
   "version": "3.10.8"
  }
 },
 "nbformat": 4,
 "nbformat_minor": 5
}
